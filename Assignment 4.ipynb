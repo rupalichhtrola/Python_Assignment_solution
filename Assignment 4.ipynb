{
 "cells": [
  {
   "cell_type": "code",
   "execution_count": 7,
   "id": "d0cd96fa",
   "metadata": {},
   "outputs": [
    {
     "name": "stdout",
     "output_type": "stream",
     "text": [
      "Enter the number : 5\n",
      "The factorial of 5 is 120\n"
     ]
    }
   ],
   "source": [
    "# Write a Python Program to Find the Factorial of a Number\n",
    "\n",
    "num=int(input(\"Enter the number : \"))\n",
    "factorial=1\n",
    "\n",
    "# check if the number is positive, nagetive or zero\n",
    "\n",
    "if num<0:\n",
    "    print(\"Factorial does not exist for nagetive number!\")\n",
    "elif num==0:\n",
    "    print(\"the factorial of 0 is 1\")\n",
    "else:\n",
    "    for i in range(1,num+1):\n",
    "        factorial=factorial*i\n",
    "    print(\"The factorial of\",num,\"is\",factorial)"
   ]
  },
  {
   "cell_type": "code",
   "execution_count": 9,
   "id": "7e152e12",
   "metadata": {},
   "outputs": [
    {
     "name": "stdout",
     "output_type": "stream",
     "text": [
      "Multiplication table for number : 25\n",
      "25 X 1 = 25\n",
      "25 X 2 = 50\n",
      "25 X 3 = 75\n",
      "25 X 4 = 100\n",
      "25 X 5 = 125\n",
      "25 X 6 = 150\n",
      "25 X 7 = 175\n",
      "25 X 8 = 200\n",
      "25 X 9 = 225\n",
      "25 X 10 = 250\n"
     ]
    }
   ],
   "source": [
    "# Write a Python Program to Display the multiplication Table\n",
    "\n",
    "num=int(input(\"Multiplication table for number : \"))\n",
    "for i in range(1,11):\n",
    "    print(num,\"X\",i,\"=\",num*i)"
   ]
  },
  {
   "cell_type": "code",
   "execution_count": 11,
   "id": "21ef19ba",
   "metadata": {},
   "outputs": [
    {
     "name": "stdout",
     "output_type": "stream",
     "text": [
      "Enter the value of 'n' : 6\n",
      "Fabonacci Series : \n",
      "0 1 1 2 3 5 "
     ]
    }
   ],
   "source": [
    "# Write a Python Program to Print the Fibonacci sequence?\n",
    "\n",
    "# Using while loop\n",
    "n=int(input(\"Enter the value of 'n' : \"))\n",
    "a=0\n",
    "b=1\n",
    "sum=0\n",
    "count=1\n",
    "print(\"Fabonacci Series : \")\n",
    "while(count<=n):\n",
    "    print(sum,end=' ')\n",
    "    count+=1\n",
    "    a=b\n",
    "    b=sum\n",
    "    sum=a+b\n"
   ]
  },
  {
   "cell_type": "code",
   "execution_count": 39,
   "id": "b98d192e",
   "metadata": {},
   "outputs": [
    {
     "name": "stdout",
     "output_type": "stream",
     "text": [
      "Enter the range number : 6\n",
      "0\n",
      "1\n",
      "1\n",
      "2\n",
      "3\n",
      "5\n"
     ]
    }
   ],
   "source": [
    "# Write a Python Program to Print the Fibonacci sequence Using for loop\n",
    "\n",
    "num=int(input(\"Enter the range number : \"))\n",
    "a=0\n",
    "b=1\n",
    "for n in range(0, num):\n",
    "            if(n <= 1):\n",
    "                      sum=n\n",
    "            else:\n",
    "                    sum=a+b \n",
    "                    a=b\n",
    "                    b=sum\n",
    "            print(sum)"
   ]
  },
  {
   "cell_type": "code",
   "execution_count": 3,
   "id": "26a4c1ea",
   "metadata": {},
   "outputs": [
    {
     "name": "stdout",
     "output_type": "stream",
     "text": [
      "0\n",
      "1\n",
      "1\n",
      "2\n",
      "3\n",
      "5\n"
     ]
    }
   ],
   "source": [
    "# Write a Python Program to Print the Fibonacci sequence (Using Function)\n",
    "\n",
    "def fib(n):\n",
    "    a=0\n",
    "    b=1\n",
    "    if n==1:\n",
    "        print(a)\n",
    "    else:\n",
    "        print(a)\n",
    "        print(b)\n",
    "        for i in range(2,n):\n",
    "            c=a+b\n",
    "            a=b\n",
    "            b=c\n",
    "            print(c)\n",
    "            \n",
    "fib(6)"
   ]
  },
  {
   "cell_type": "code",
   "execution_count": 7,
   "id": "4c5b2acb",
   "metadata": {},
   "outputs": [
    {
     "name": "stdout",
     "output_type": "stream",
     "text": [
      "Enter the number : 153\n",
      "153 is an Armstrong Number\n"
     ]
    }
   ],
   "source": [
    "# Write a Python Program to Check Armstrong Number?\n",
    "\n",
    "num=int(input(\"Enter the number : \"))\n",
    "\n",
    "# initialize sum\n",
    "sum=0\n",
    "\n",
    "# find the sum of the cube of each digit\n",
    "temp=num\n",
    "while temp > 0:\n",
    "    digit = temp % 10\n",
    "    sum += digit ** 3\n",
    "    temp //= 10\n",
    "    \n",
    "# display the result\n",
    "if num==sum:\n",
    "    print(num,\"is an Armstrong Number\")\n",
    "else:\n",
    "    print(num,\"is not an Armstrong Number\")"
   ]
  },
  {
   "cell_type": "code",
   "execution_count": 17,
   "id": "d9d41ca0",
   "metadata": {},
   "outputs": [
    {
     "name": "stdout",
     "output_type": "stream",
     "text": [
      "Enter the lower number : 100\n",
      "Enter the upper number : 3000\n",
      "153\n",
      "370\n",
      "371\n",
      "407\n",
      "1634\n"
     ]
    }
   ],
   "source": [
    "# Write a Python Program to Find Armstrong Number in an Interval?\n",
    "\n",
    "lower=int(input(\"Enter the lower number : \"))\n",
    "upper=int(input(\"Enter the upper number : \"))\n",
    "\n",
    "for num in range(lower,upper + 1):\n",
    "    order =len(str(num))\n",
    "    sum=0\n",
    "    \n",
    "    temp = num\n",
    "    while temp > 0:\n",
    "        digit = temp % 10\n",
    "        sum += digit ** order\n",
    "        temp //=10\n",
    "        \n",
    "    if num==sum:\n",
    "        print(num)"
   ]
  },
  {
   "cell_type": "code",
   "execution_count": 21,
   "id": "18d02c6a",
   "metadata": {},
   "outputs": [
    {
     "name": "stdout",
     "output_type": "stream",
     "text": [
      "Enter the value of n : 16\n",
      "136\n"
     ]
    }
   ],
   "source": [
    "# Write a Python Program to Find the Sum of Natural Number?\n",
    "\n",
    "n=int(input(\"Enter the value of n : \"))\n",
    " \n",
    "sum=0\n",
    "i=1\n",
    "while i<=n:\n",
    "    sum=sum + i\n",
    "    i=i+1\n",
    "    \n",
    "print(sum)"
   ]
  },
  {
   "cell_type": "code",
   "execution_count": null,
   "id": "a1a9452a",
   "metadata": {},
   "outputs": [],
   "source": []
  }
 ],
 "metadata": {
  "kernelspec": {
   "display_name": "Python 3 (ipykernel)",
   "language": "python",
   "name": "python3"
  },
  "language_info": {
   "codemirror_mode": {
    "name": "ipython",
    "version": 3
   },
   "file_extension": ".py",
   "mimetype": "text/x-python",
   "name": "python",
   "nbconvert_exporter": "python",
   "pygments_lexer": "ipython3",
   "version": "3.9.12"
  }
 },
 "nbformat": 4,
 "nbformat_minor": 5
}
