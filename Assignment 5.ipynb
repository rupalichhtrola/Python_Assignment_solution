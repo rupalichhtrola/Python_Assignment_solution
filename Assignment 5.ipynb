{
 "cells": [
  {
   "cell_type": "code",
   "execution_count": 14,
   "id": "89e28ec3",
   "metadata": {},
   "outputs": [
    {
     "name": "stdout",
     "output_type": "stream",
     "text": [
      "Enter the first number : 2\n",
      "Enter the second number : 6\n",
      "Maximum number is 6\n"
     ]
    }
   ],
   "source": [
    "# Write a Python Program to Find LCM?\n",
    "\n",
    "num1 = int(input(\"Enter the first number : \"))\n",
    "num2 = int(input(\"Enter the second number : \"))\n",
    "\n",
    "if(num1 > num2 ):   # Use If condition to find the greatest number among these two.\n",
    "    max= num1\n",
    "else:\n",
    "    max= num2\n",
    "while(True):\n",
    "    if(max % num1 == 0 and max % num2 == 0):   \n",
    "        print(\"Maximum number is\",max)\n",
    "        break;\n",
    "    max= max+ 1\n",
    "        "
   ]
  },
  {
   "cell_type": "code",
   "execution_count": 20,
   "id": "3c3e4e82",
   "metadata": {},
   "outputs": [
    {
     "name": "stdout",
     "output_type": "stream",
     "text": [
      "Enter the first number : 2\n",
      "Enter the second number : 3\n",
      "The H.C.M. is  1\n"
     ]
    }
   ],
   "source": [
    "# Write a python program to find HCF ?\n",
    "\n",
    "def compute_hcf(x,y):\n",
    "\n",
    "    # choose the smaller number\n",
    "    if x > y:\n",
    "        smaller = y\n",
    "    else:\n",
    "        smaller = x\n",
    "    for i in range(1, smaller+1):\n",
    "        if ((x%i==0) and (y%i==0)):\n",
    "            hcf=i\n",
    "    return hcf\n",
    "num1=int(input(\"Enter the first number : \"))\n",
    "num2=int(input(\"Enter the second number : \"))\n",
    "\n",
    "print(\"The H.C.M. is \",compute_hcf(num1,num2))\n",
    "    "
   ]
  },
  {
   "cell_type": "code",
   "execution_count": 22,
   "id": "0aefcd3a",
   "metadata": {},
   "outputs": [
    {
     "name": "stdout",
     "output_type": "stream",
     "text": [
      "Enter the decimal number : 45\n",
      "The decimal value is :  45\n",
      "0b101101 in Binary.\n",
      "0o55 in Octal.\n",
      "0x2d in Hexadecimal.\n"
     ]
    }
   ],
   "source": [
    "# Write a python program to convert decimal to binary, octal and hexadecimal ?\n",
    "\n",
    "dec=int(input(\"Enter the decimal number : \"))\n",
    "print(\"The decimal value is : \",dec)\n",
    "print(bin(dec),\"in Binary.\")\n",
    "print(oct(dec),\"in Octal.\")\n",
    "print(hex(dec),\"in Hexadecimal.\")"
   ]
  },
  {
   "cell_type": "code",
   "execution_count": 29,
   "id": "7a3f605e",
   "metadata": {},
   "outputs": [
    {
     "name": "stdout",
     "output_type": "stream",
     "text": [
      "Enter any character : M\n",
      "The ASCII value of 'M' is  77\n"
     ]
    }
   ],
   "source": [
    "# Write a python program to find ASCII value of a character ?\n",
    " \n",
    "ch=input(\"Enter any character : \")\n",
    "print(\"The ASCII value of '\"+ch+\"' is \",ord(ch))"
   ]
  },
  {
   "cell_type": "code",
   "execution_count": null,
   "id": "648d911a",
   "metadata": {},
   "outputs": [],
   "source": [
    "# Write a python program to make simple calculator with 4 basic mathematical oprations ?\n",
    "\n",
    "#function to add two numbers\n",
    "def add(num1,num2):\n",
    "    return num1+num2\n",
    "\n",
    "#function to substact two numbers\n",
    "def sub(num1,num2):\n",
    "    return num1-num2\n",
    "\n",
    "#function to multiply two numbers\n",
    "def mul(num1,num2):\n",
    "    return num1*num2\n",
    "\n",
    "#function to divide two numbers\n",
    "def div(num1,num2):\n",
    "    return num1/num2\n",
    "\n",
    "print(\"Please select opration - \\n\" , \"1. Addition \\n\" , \"2. Substaction \\n\" , \"3. Multiplication \\n\" , \"4. Division \\n\")\n",
    "\n",
    "# take input from the user\n",
    "select=int(input(\"Select an opration from 1. 2. 3. 4. : \"))\n",
    "\n",
    "n1=int(input(\"Enter first number : \"))\n",
    "n2=int(input(\"Enter second number : \"))\n",
    "\n",
    "if select==1:\n",
    "    print(n1 , \"+\" , n2 , \"=\" , add(n1,n2))\n",
    "elif select==2:\n",
    "    print(n1 , \"-\" , n2 , \"=\" , sub(n1,n2))\n",
    "elif select==3:\n",
    "    print(n1 , \"*\" , n2 , \"=\" , mul(n1,n2))\n",
    "elif select==4:\n",
    "    print(n1 , \"/\" , n2 , \"=\" , div(n1,n2))\n",
    "else:\n",
    "    print(\"Invalid Input\")\n"
   ]
  },
  {
   "cell_type": "code",
   "execution_count": null,
   "id": "f54fc666",
   "metadata": {},
   "outputs": [],
   "source": []
  }
 ],
 "metadata": {
  "kernelspec": {
   "display_name": "Python 3 (ipykernel)",
   "language": "python",
   "name": "python3"
  },
  "language_info": {
   "codemirror_mode": {
    "name": "ipython",
    "version": 3
   },
   "file_extension": ".py",
   "mimetype": "text/x-python",
   "name": "python",
   "nbconvert_exporter": "python",
   "pygments_lexer": "ipython3",
   "version": "3.9.12"
  }
 },
 "nbformat": 4,
 "nbformat_minor": 5
}
