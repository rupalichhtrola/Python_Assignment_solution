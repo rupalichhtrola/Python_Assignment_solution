{
 "cells": [
  {
   "cell_type": "code",
   "execution_count": null,
   "id": "1955e865",
   "metadata": {},
   "outputs": [],
   "source": [
    "  1. Is the python standard library included with PyInputPlus ?\n",
    "ans. PyInputPlus is not a part of common python standard library. So you must install it saperately using pip."
   ]
  },
  {
   "cell_type": "code",
   "execution_count": null,
   "id": "3d11a91e",
   "metadata": {},
   "outputs": [],
   "source": [
    "  2. Why is PyInputPlus commonly imported with import PyInputplus as pypi ?\n",
    "ans. You can import the module with import PyInputPlus as pypi so that you can enter a sorter name when calling a\n",
    "     module's function."
   ]
  },
  {
   "cell_type": "code",
   "execution_count": null,
   "id": "301072e3",
   "metadata": {},
   "outputs": [],
   "source": [
    "  3. How do you distinguish between inputInt() and inputFloat() ? \n",
    "ans. inputInt()   : Accepts an Integer value.\n",
    "     inputFloat() : Accepts a Floating-point numeric value.           "
   ]
  },
  {
   "cell_type": "code",
   "execution_count": null,
   "id": "59da4298",
   "metadata": {},
   "outputs": [],
   "source": [
    "4. Using PyInputPlus, how do you ensure that the user enters a whole number between 0 to 99 ?"
   ]
  },
  {
   "cell_type": "code",
   "execution_count": 4,
   "id": "d5846a96",
   "metadata": {},
   "outputs": [
    {
     "name": "stdout",
     "output_type": "stream",
     "text": [
      "Defaulting to user installation because normal site-packages is not writeable\n",
      "Collecting pyinputplus\n",
      "  Downloading PyInputPlus-0.2.12.tar.gz (20 kB)\n",
      "  Installing build dependencies: started\n",
      "  Installing build dependencies: finished with status 'done'\n",
      "  Getting requirements to build wheel: started\n",
      "  Getting requirements to build wheel: finished with status 'done'\n",
      "    Preparing wheel metadata: started\n",
      "    Preparing wheel metadata: finished with status 'done'\n",
      "Collecting stdiomask>=0.0.3\n",
      "  Downloading stdiomask-0.0.6.tar.gz (3.6 kB)\n",
      "  Installing build dependencies: started\n",
      "  Installing build dependencies: finished with status 'done'\n",
      "  Getting requirements to build wheel: started\n",
      "  Getting requirements to build wheel: finished with status 'done'\n",
      "    Preparing wheel metadata: started\n",
      "    Preparing wheel metadata: finished with status 'done'\n",
      "Collecting pysimplevalidate>=0.2.7\n",
      "  Downloading PySimpleValidate-0.2.12.tar.gz (22 kB)\n",
      "  Installing build dependencies: started\n",
      "  Installing build dependencies: finished with status 'done'\n",
      "  Getting requirements to build wheel: started\n",
      "  Getting requirements to build wheel: finished with status 'done'\n",
      "    Preparing wheel metadata: started\n",
      "    Preparing wheel metadata: finished with status 'done'\n",
      "Building wheels for collected packages: pyinputplus, pysimplevalidate, stdiomask\n",
      "  Building wheel for pyinputplus (PEP 517): started\n",
      "  Building wheel for pyinputplus (PEP 517): finished with status 'done'\n",
      "  Created wheel for pyinputplus: filename=PyInputPlus-0.2.12-py3-none-any.whl size=11321 sha256=7c5986525eee889eea0f623d4d2f8890109b9b590ed6823477d299d3570906ed\n",
      "  Stored in directory: c:\\users\\rupali\\appdata\\local\\pip\\cache\\wheels\\b4\\6e\\2f\\8a852732646cabec36c3fe8fc060ec5bea1c1be711432c47f7\n",
      "  Building wheel for pysimplevalidate (PEP 517): started\n",
      "  Building wheel for pysimplevalidate (PEP 517): finished with status 'done'\n",
      "  Created wheel for pysimplevalidate: filename=PySimpleValidate-0.2.12-py3-none-any.whl size=16204 sha256=82e92a1b21e7978ab85db19c7f8b08fb52a4ef1f7a14fd35a9ff4be83093fcbf\n",
      "  Stored in directory: c:\\users\\rupali\\appdata\\local\\pip\\cache\\wheels\\b1\\44\\4a\\043a4f4c4512c7cdfb0c2b8408b18b0de5fd45cac57f5dfa02\n",
      "  Building wheel for stdiomask (PEP 517): started\n",
      "  Building wheel for stdiomask (PEP 517): finished with status 'done'\n",
      "  Created wheel for stdiomask: filename=stdiomask-0.0.6-py3-none-any.whl size=3322 sha256=d881f4515586ddca00f2997b74f82e8106d10e2353b27d754fe73ea338deb869\n",
      "  Stored in directory: c:\\users\\rupali\\appdata\\local\\pip\\cache\\wheels\\1d\\aa\\47\\f41f117d22c5de82e95d9342f44da578c80610739a2d5ebec4\n",
      "Successfully built pyinputplus pysimplevalidate stdiomask\n",
      "Installing collected packages: stdiomask, pysimplevalidate, pyinputplus\n",
      "Successfully installed pyinputplus-0.2.12 pysimplevalidate-0.2.12 stdiomask-0.0.6\n",
      "Note: you may need to restart the kernel to use updated packages.\n"
     ]
    }
   ],
   "source": [
    "pip install pyinputplus"
   ]
  },
  {
   "cell_type": "code",
   "execution_count": 7,
   "id": "897ab5df",
   "metadata": {},
   "outputs": [
    {
     "name": "stdout",
     "output_type": "stream",
     "text": [
      ">-5\n",
      "Number must be at minimum 0.\n",
      ">110\n",
      "Number must be less than 99.\n",
      ">56\n"
     ]
    }
   ],
   "source": [
    "import pyinputplus as pyip\n",
    "\n",
    "response=pyip.inputNum(\">\", min=0, lessThan=99)"
   ]
  },
  {
   "cell_type": "code",
   "execution_count": null,
   "id": "74617750",
   "metadata": {},
   "outputs": [],
   "source": [
    "  5. What is the transfferd to the keyword arguments allowRegexes and blockRegexes ?\n",
    "ans. The allowRegexes and blockRegexes keyword arguments take a list of regular expression string to determine\n",
    "     what the pyinputplus function will accept or reject as valid input."
   ]
  },
  {
   "cell_type": "code",
   "execution_count": null,
   "id": "15d9ef54",
   "metadata": {},
   "outputs": [],
   "source": [
    "  6. If the blank input is entered three times, what does inputStr(limit=3) do ?\n",
    "ans. Blank values are not allowed."
   ]
  },
  {
   "cell_type": "code",
   "execution_count": null,
   "id": "e64ce809",
   "metadata": {},
   "outputs": [],
   "source": [
    "import pyinputplus as pyip\n",
    "\n",
    "response=pyip.inputNum(\"Enter Num : \")"
   ]
  },
  {
   "cell_type": "code",
   "execution_count": null,
   "id": "6c08afb9",
   "metadata": {},
   "outputs": [],
   "source": [
    "  7. If blank input is entered three times, what does inputStr(limit=3,default=\"hello\") do ?\n",
    "ans. hello is not an integer."
   ]
  }
 ],
 "metadata": {
  "kernelspec": {
   "display_name": "Python 3 (ipykernel)",
   "language": "python",
   "name": "python3"
  },
  "language_info": {
   "codemirror_mode": {
    "name": "ipython",
    "version": 3
   },
   "file_extension": ".py",
   "mimetype": "text/x-python",
   "name": "python",
   "nbconvert_exporter": "python",
   "pygments_lexer": "ipython3",
   "version": "3.9.12"
  }
 },
 "nbformat": 4,
 "nbformat_minor": 5
}
