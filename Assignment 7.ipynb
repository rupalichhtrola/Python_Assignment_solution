{
 "cells": [
  {
   "cell_type": "code",
   "execution_count": 3,
   "id": "c717b0e3",
   "metadata": {},
   "outputs": [
    {
     "name": "stdout",
     "output_type": "stream",
     "text": [
      "56\n"
     ]
    }
   ],
   "source": [
    "# Write a python program to find sum of an array ?\n",
    "\n",
    "import array as arr\n",
    "\n",
    "a=arr.array(\"i\",[10,21,12,13])\n",
    "print(sum(a))"
   ]
  },
  {
   "cell_type": "code",
   "execution_count": 4,
   "id": "7ac31128",
   "metadata": {},
   "outputs": [
    {
     "name": "stdout",
     "output_type": "stream",
     "text": [
      "21\n"
     ]
    }
   ],
   "source": [
    "# Write a python program to find largest element of an array ?\n",
    "\n",
    "import array as arr\n",
    "\n",
    "a=arr.array(\"i\",[10,21,12,13])\n",
    "print(max(a))"
   ]
  },
  {
   "cell_type": "code",
   "execution_count": 5,
   "id": "18e34a89",
   "metadata": {},
   "outputs": [
    {
     "name": "stdout",
     "output_type": "stream",
     "text": [
      "10\n"
     ]
    }
   ],
   "source": [
    "# Write a python program to find smallest element of an array ?\n",
    "\n",
    "import array as arr\n",
    "\n",
    "a=arr.array(\"i\",[10,21,12,13])\n",
    "print(min(a))"
   ]
  },
  {
   "cell_type": "code",
   "execution_count": 10,
   "id": "7ca65a05",
   "metadata": {},
   "outputs": [
    {
     "name": "stdout",
     "output_type": "stream",
     "text": [
      "Array after left rotation is :  [3, 1, 2]\n"
     ]
    }
   ],
   "source": [
    "# Write a python program for array rotation ?\n",
    "\n",
    "def rotatearry(arr,n,d):\n",
    "    temp=[]\n",
    "    i=0\n",
    "    while(i<d):\n",
    "        temp.append(arr[i])\n",
    "        i=i+1\n",
    "    i=0\n",
    "    while(i<n):\n",
    "        arr[i]=arr[d]\n",
    "        i=i+1\n",
    "        d=d+1\n",
    "        arr[:]=arr[: i]+temp\n",
    "        return arr\n",
    "arr=[1,2,3,4,5,6,7]\n",
    "print(\"Array after left rotation is : \",end=\" \")\n",
    "print(rotatearry(arr,len(arr),2))"
   ]
  },
  {
   "cell_type": "code",
   "execution_count": null,
   "id": "a117ad2f",
   "metadata": {},
   "outputs": [],
   "source": [
    "# Write a Python Program to Split the array and add the first part to the end?"
   ]
  },
  {
   "cell_type": "code",
   "execution_count": null,
   "id": "85eacda7",
   "metadata": {},
   "outputs": [],
   "source": [
    "# Write a Python Program to check if given array is Monotonic?"
   ]
  }
 ],
 "metadata": {
  "kernelspec": {
   "display_name": "Python 3 (ipykernel)",
   "language": "python",
   "name": "python3"
  },
  "language_info": {
   "codemirror_mode": {
    "name": "ipython",
    "version": 3
   },
   "file_extension": ".py",
   "mimetype": "text/x-python",
   "name": "python",
   "nbconvert_exporter": "python",
   "pygments_lexer": "ipython3",
   "version": "3.9.12"
  }
 },
 "nbformat": 4,
 "nbformat_minor": 5
}
