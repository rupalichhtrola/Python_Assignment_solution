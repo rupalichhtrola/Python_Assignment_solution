{
 "cells": [
  {
   "cell_type": "code",
   "execution_count": 1,
   "id": "b2dab2c4",
   "metadata": {},
   "outputs": [
    {
     "name": "stdout",
     "output_type": "stream",
     "text": [
      "Hello Python\n"
     ]
    }
   ],
   "source": [
    "# write a python program to print \"Hello Python\"?\n",
    "\n",
    "print(\"Hello Python\")"
   ]
  },
  {
   "cell_type": "code",
   "execution_count": 2,
   "id": "03d9173a",
   "metadata": {},
   "outputs": [
    {
     "name": "stdout",
     "output_type": "stream",
     "text": [
      "Enter the value of A : 12\n",
      "Enter the value of B : 4\n",
      "Addition of A & B is : 16\n",
      "Division of A & B is : 3.0\n"
     ]
    }
   ],
   "source": [
    "# write a python program to do arithmatic operations (addition & division)?\n",
    "\n",
    "a=int(input(\"Enter the value of A : \"))\n",
    "b=int(input(\"Enter the value of B : \"))\n",
    "c=a+b\n",
    "d=a/b\n",
    "print(\"Addition of A & B is :\",c)\n",
    "print(\"Division of A & B is :\",d)"
   ]
  },
  {
   "cell_type": "code",
   "execution_count": 3,
   "id": "0cbddc72",
   "metadata": {},
   "outputs": [
    {
     "name": "stdout",
     "output_type": "stream",
     "text": [
      "Enter the value of Base B : 4\n",
      "Enter the value of Height H : 5\n",
      "The area of triangle is : 10.0\n"
     ]
    }
   ],
   "source": [
    "# write a python program to find the area of triangle?\n",
    "\n",
    "b=int(input(\"Enter the value of Base B : \"))\n",
    "h=int(input(\"Enter the value of Height H : \"))\n",
    "a=b*h/2\n",
    "print(\"The area of triangle is :\",a)"
   ]
  },
  {
   "cell_type": "code",
   "execution_count": 4,
   "id": "54d8396c",
   "metadata": {},
   "outputs": [
    {
     "name": "stdout",
     "output_type": "stream",
     "text": [
      "Enter the value of A : 12\n",
      "Enter the value of B : 45\n",
      "The swaping value of A is : 45\n",
      "The swaping value of B is : 12\n"
     ]
    }
   ],
   "source": [
    "# write a python program to swap two variables?\n",
    "\n",
    "a=int(input(\"Enter the value of A : \"))\n",
    "b=int(input(\"Enter the value of B : \"))\n",
    "x=a\n",
    "a=b\n",
    "b=x\n",
    "print(\"The swaping value of A is :\",format(a))\n",
    "print(\"The swaping value of B is :\",format(b))"
   ]
  },
  {
   "cell_type": "code",
   "execution_count": 5,
   "id": "98ad786f",
   "metadata": {},
   "outputs": [
    {
     "name": "stdout",
     "output_type": "stream",
     "text": [
      "4\n"
     ]
    }
   ],
   "source": [
    "# write a python program to generate a random number?\n",
    "\n",
    "import random\n",
    "random_num=random.randint(1,999)\n",
    "print(random_num)"
   ]
  }
 ],
 "metadata": {
  "kernelspec": {
   "display_name": "Python 3 (ipykernel)",
   "language": "python",
   "name": "python3"
  },
  "language_info": {
   "codemirror_mode": {
    "name": "ipython",
    "version": 3
   },
   "file_extension": ".py",
   "mimetype": "text/x-python",
   "name": "python",
   "nbconvert_exporter": "python",
   "pygments_lexer": "ipython3",
   "version": "3.9.12"
  }
 },
 "nbformat": 4,
 "nbformat_minor": 5
}
