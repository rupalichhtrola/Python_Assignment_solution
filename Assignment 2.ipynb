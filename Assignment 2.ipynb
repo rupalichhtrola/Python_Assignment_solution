{
 "cells": [
  {
   "cell_type": "code",
   "execution_count": 1,
   "id": "12919475",
   "metadata": {},
   "outputs": [
    {
     "name": "stdout",
     "output_type": "stream",
     "text": [
      "Enter the value of kilometer : 5\n",
      "Mile is :  3.0\n"
     ]
    }
   ],
   "source": [
    "# write a python program to convert kilometers to miles?\n",
    "\n",
    "x=int(input(\"Enter the value of kilometer : \"))\n",
    "y=x*0.6\n",
    "print(\"Mile is : \",y)"
   ]
  },
  {
   "cell_type": "code",
   "execution_count": 2,
   "id": "bf7d1281",
   "metadata": {},
   "outputs": [
    {
     "name": "stdout",
     "output_type": "stream",
     "text": [
      "Enter the value of Celcius : 5\n",
      "The fahrenheit value of c is : 41.0\n"
     ]
    }
   ],
   "source": [
    "# Write a Python program to convert Celsius to Fahrenheit?\n",
    "\n",
    "c=int(input(\"Enter the value of Celcius : \"))\n",
    "f=(c * 9/5) + 32\n",
    "print(\"The fahrenheit value of c is :\",f)"
   ]
  },
  {
   "cell_type": "code",
   "execution_count": 3,
   "id": "52a05c00",
   "metadata": {},
   "outputs": [
    {
     "name": "stdout",
     "output_type": "stream",
     "text": [
      "      May 2023\n",
      "Mo Tu We Th Fr Sa Su\n",
      " 1  2  3  4  5  6  7\n",
      " 8  9 10 11 12 13 14\n",
      "15 16 17 18 19 20 21\n",
      "22 23 24 25 26 27 28\n",
      "29 30 31\n",
      "\n"
     ]
    }
   ],
   "source": [
    "# Write a Python program to display calendar?\n",
    "\n",
    "import calendar\n",
    "\n",
    "yy=2023 # year\n",
    "mm=5   # month\n",
    "print(calendar.month(yy,mm))"
   ]
  },
  {
   "cell_type": "code",
   "execution_count": 4,
   "id": "773d533d",
   "metadata": {},
   "outputs": [
    {
     "name": "stdout",
     "output_type": "stream",
     "text": [
      "Enter the value of A : 2\n",
      "Enter the value of B : 3\n",
      "Enter the value of C : 2\n",
      "The solutions are (-0.75-0.8660254037844386j) and (-0.75+0.8660254037844386j)\n"
     ]
    }
   ],
   "source": [
    "# Write a Python program to solve quadratic equation? ax**2 + bx + c = 0\n",
    "\n",
    "#import complex math module\n",
    "import cmath\n",
    "\n",
    "a=int(input(\"Enter the value of A : \"))\n",
    "b=int(input(\"Enter the value of B : \"))\n",
    "c=int(input(\"Enter the value of C : \"))\n",
    "\n",
    "# calculate the discriminant\n",
    "d=(a**2) - (4*a*c)\n",
    "\n",
    "sol1=(-b-cmath.sqrt(d))/(2*a)\n",
    "sol2=(-b+cmath.sqrt(d))/(2*a)\n",
    "\n",
    "print(\"The solutions are {0} and {1}\".format(sol1,sol2))"
   ]
  },
  {
   "cell_type": "code",
   "execution_count": 5,
   "id": "14558650",
   "metadata": {},
   "outputs": [
    {
     "name": "stdout",
     "output_type": "stream",
     "text": [
      "Enter the value of X : 30\n",
      "Enter the value of Y : 52\n",
      "The value of x : 52 and y : 30\n"
     ]
    }
   ],
   "source": [
    "# Write a Python program to swap two variables without temp variable?\n",
    "\n",
    "x=int(input(\"Enter the value of X : \"))\n",
    "y=int(input(\"Enter the value of Y : \"))\n",
    "x,y=y,x\n",
    "print(\"The value of x :\",x,\"and y :\",y)"
   ]
  }
 ],
 "metadata": {
  "kernelspec": {
   "display_name": "Python 3 (ipykernel)",
   "language": "python",
   "name": "python3"
  },
  "language_info": {
   "codemirror_mode": {
    "name": "ipython",
    "version": 3
   },
   "file_extension": ".py",
   "mimetype": "text/x-python",
   "name": "python",
   "nbconvert_exporter": "python",
   "pygments_lexer": "ipython3",
   "version": "3.9.12"
  }
 },
 "nbformat": 4,
 "nbformat_minor": 5
}
