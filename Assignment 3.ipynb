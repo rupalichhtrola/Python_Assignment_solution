{
 "cells": [
  {
   "cell_type": "code",
   "execution_count": 1,
   "id": "38f2955c",
   "metadata": {},
   "outputs": [
    {
     "name": "stdout",
     "output_type": "stream",
     "text": [
      "Enter the number : 45\n",
      "Number is positive \n"
     ]
    }
   ],
   "source": [
    "# Write a Python Program to Check if a Number is Positive, Negative or Zero?\n",
    "\n",
    "a=int(input(\"Enter the number : \"))\n",
    "\n",
    "\"\"\"In this program, we check if the number is positive or negative or zero and display an appropriate message\"\"\"\n",
    "\n",
    "if a>0:\n",
    "    print(\"Number is positive \")\n",
    "elif a<0:\n",
    "    print(\"Number is negative\")\n",
    "else:\n",
    "    print(\"Zero\")"
   ]
  },
  {
   "cell_type": "code",
   "execution_count": 2,
   "id": "7a838eca",
   "metadata": {},
   "outputs": [
    {
     "name": "stdout",
     "output_type": "stream",
     "text": [
      "Enter the number : 6\n",
      "Number is Even\n"
     ]
    }
   ],
   "source": [
    "# Write a Python Program to Check if a Number is Odd or Even?\n",
    "\n",
    "a=int(input(\"Enter the number : \"))\n",
    "if a%2==0:\n",
    "    print(\"Number is Even\")\n",
    "else:\n",
    "    print(\"Number is Odd\")"
   ]
  },
  {
   "cell_type": "code",
   "execution_count": 3,
   "id": "106944f8",
   "metadata": {},
   "outputs": [
    {
     "name": "stdout",
     "output_type": "stream",
     "text": [
      "Enter the year : 2024\n",
      "2024 is a Leap Year\n"
     ]
    }
   ],
   "source": [
    "# Write a Python Program to Check Leap Year?\n",
    "\n",
    "y=int(input(\"Enter the year : \"))\n",
    "\n",
    "if y%4==0 and y%100!=0:\n",
    "    print(y,\"is a Leap Year\")\n",
    "elif y%100==0:\n",
    "    print(y,\"is not a Leap Year\")\n",
    "elif y%400==0:\n",
    "    print(y,\"is a Leap Year\")\n",
    "else:\n",
    "    print(y,\"is not a Leap Year\")"
   ]
  },
  {
   "cell_type": "code",
   "execution_count": 4,
   "id": "1f941f33",
   "metadata": {},
   "outputs": [
    {
     "name": "stdout",
     "output_type": "stream",
     "text": [
      "Enter any number : 11\n",
      "11 is prime number\n"
     ]
    }
   ],
   "source": [
    "# Write a Python Program to Check Prime Number?\n",
    "\n",
    "num=int(input(\"Enter any number : \"))\n",
    "if num>1:\n",
    "    for i in range(2,num):\n",
    "        if(num%i)==0:\n",
    "            print(num,\"is not prime number\")\n",
    "            break\n",
    "    else:\n",
    "        print(num,\"is prime number\")\n",
    "else:\n",
    "    print(num,\"is not prime number\")"
   ]
  },
  {
   "cell_type": "code",
   "execution_count": 8,
   "id": "508f3e6e",
   "metadata": {},
   "outputs": [
    {
     "name": "stdout",
     "output_type": "stream",
     "text": [
      "Enter lower number : 1\n",
      "Enter upper number : 1000\n",
      "2 3 5 7 11 13 17 19 23 29 31 37 41 43 47 53 59 61 67 71 73 79 83 89 97 101 103 107 109 113 127 131 137 139 149 151 157 163 167 173 179 181 191 193 197 199 211 223 227 229 233 239 241 251 257 263 269 271 277 281 283 293 307 311 313 317 331 337 347 349 353 359 367 373 379 383 389 397 401 409 419 421 431 433 439 443 449 457 461 463 467 479 487 491 499 503 509 521 523 541 547 557 563 569 571 577 587 593 599 601 607 613 617 619 631 641 643 647 653 659 661 673 677 683 691 701 709 719 727 733 739 743 751 757 761 769 773 787 797 809 811 821 823 827 829 839 853 857 859 863 877 881 883 887 907 911 919 929 937 941 947 953 967 971 977 983 991 997 "
     ]
    }
   ],
   "source": [
    "# Write a Python Program to Print all Prime Numbers in an Interval of 1-10000?\n",
    "\n",
    "lower=int(input(\"Enter lower number : \"))\n",
    "upper=int(input(\"Enter upper number : \"))\n",
    "\n",
    "for number in range(lower,upper+1):\n",
    "    count=0\n",
    "    for i in range(2,(number//2+1)):\n",
    "        if(number%i==0):\n",
    "            count=count+1\n",
    "            break\n",
    "    if(count==0 and number!=1):\n",
    "        print(\"%d\" % number,end=\" \")\n"
   ]
  },
  {
   "cell_type": "code",
   "execution_count": null,
   "id": "6c473a58",
   "metadata": {},
   "outputs": [],
   "source": []
  }
 ],
 "metadata": {
  "kernelspec": {
   "display_name": "Python 3 (ipykernel)",
   "language": "python",
   "name": "python3"
  },
  "language_info": {
   "codemirror_mode": {
    "name": "ipython",
    "version": 3
   },
   "file_extension": ".py",
   "mimetype": "text/x-python",
   "name": "python",
   "nbconvert_exporter": "python",
   "pygments_lexer": "ipython3",
   "version": "3.9.12"
  }
 },
 "nbformat": 4,
 "nbformat_minor": 5
}
